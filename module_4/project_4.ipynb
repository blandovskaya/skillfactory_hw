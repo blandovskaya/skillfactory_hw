{
 "cells": [
  {
   "cell_type": "markdown",
   "metadata": {},
   "source": [
    "# Изучаем закономерности в данных"
   ]
  },
  {
   "cell_type": "markdown",
   "metadata": {},
   "source": [
    "## Задание 4.1\n",
    "```sql\n",
    "select\n",
    "    a.city\n",
    "from\n",
    "    dst_project.airports a\n",
    "group by\n",
    "    a.city\n",
    "having\n",
    "    count(a.airport_code) > 1\n",
    "```"
   ]
  },
  {
   "cell_type": "markdown",
   "metadata": {},
   "source": [
    "## Задание 4.2\n",
    "\n",
    "**Вопрос 1.**"
   ]
  },
  {
   "cell_type": "markdown",
   "metadata": {},
   "source": [
    "```sql\n",
    "select\n",
    "    count(distinct fl.status)\n",
    "from\n",
    "    dst_project.flights fl\n",
    "```"
   ]
  },
  {
   "cell_type": "markdown",
   "metadata": {},
   "source": [
    "**Вопрос 2.**\n",
    "```sql\n",
    "select\n",
    "    count(fl.flight_id)\n",
    "from\n",
    "    dst_project.flights fl\n",
    "where\n",
    "    fl.status = 'Departed'\n",
    "```"
   ]
  },
  {
   "cell_type": "markdown",
   "metadata": {},
   "source": [
    "**Вопрос 3.**\n",
    "```sql\n",
    "select \n",
    "    count(s.seat_no)\n",
    "from \n",
    "    dst_project.aircrafts a\n",
    "        join dst_project.seats s \n",
    "        on a.aircraft_code = s.aircraft_code\n",
    "where\n",
    "    a.aircraft_code = '773'\n",
    "```"
   ]
  },
  {
   "cell_type": "markdown",
   "metadata": {},
   "source": [
    "**Вопрос 4.**\n",
    "```sql\n",
    "select \n",
    "    count(fl.flight_id)\n",
    "from \n",
    "    dst_project.flights fl\n",
    "where\n",
    "    fl.status = 'Arrived'\n",
    "    and fl.actual_arrival between '2017-04-01' and '2017-09-01'\n",
    "```"
   ]
  },
  {
   "cell_type": "markdown",
   "metadata": {},
   "source": [
    "## Задание 4.3 "
   ]
  },
  {
   "cell_type": "markdown",
   "metadata": {},
   "source": [
    "**Вопрос 1.**\n",
    "```sql\n",
    "select\n",
    "    count(f.flight_id)\n",
    "from \n",
    "    dst_project.flights f \n",
    "where\n",
    "    f.status = 'Cancelled'\n",
    "```"
   ]
  },
  {
   "cell_type": "markdown",
   "metadata": {},
   "source": [
    "**Вопрос 2.**\n",
    "```sql\n",
    "select\n",
    "    'Boeing' model,\n",
    "    count(a.model) quantity\n",
    "from\n",
    "    dst_project.aircrafts a\n",
    "where\n",
    "    a.model like 'Boeing%'\n",
    "union all\n",
    "select\n",
    "    'Sukhoi Superjet' model,\n",
    "    count(a.model) quantity\n",
    "from\n",
    "    dst_project.aircrafts a\n",
    "where\n",
    "    a.model like 'Sukhoi Superjet%'\n",
    "union all\n",
    "select\n",
    "    'Airbus' model,\n",
    "    count(a.model) quantity\n",
    "from\n",
    "    dst_project.aircrafts a\n",
    "where\n",
    "    a.model like 'Airbus%'\n",
    "order by \n",
    "    quantity desc\n",
    "```"
   ]
  },
  {
   "cell_type": "markdown",
   "metadata": {},
   "source": [
    "**Вопрос 3.**\n",
    "```sql\n",
    "select\n",
    "    'Asia' timezone,\n",
    "    count(a.timezone) airports\n",
    "from\n",
    "    dst_project.airports a\n",
    "where\n",
    "    a.timezone like 'Asia%'\n",
    "union all\n",
    "select\n",
    "    'Europe' timezone,\n",
    "    count(a.timezone) airports\n",
    "from\n",
    "    dst_project.airports a\n",
    "where\n",
    "    a.timezone like 'Europe%'\n",
    "union all\n",
    "select\n",
    "    'Australia' timezone,\n",
    "    count(a.timezone) airports\n",
    "from\n",
    "    dst_project.airports a\n",
    "where\n",
    "    a.timezone like 'Australia%'\n",
    "union all\n",
    "select\n",
    "    'Total' timezone,\n",
    "    count(a.timezone) airports\n",
    "from\n",
    "    dst_project.airports a\n",
    "order by\n",
    "    2 desc\n",
    "```"
   ]
  },
  {
   "cell_type": "markdown",
   "metadata": {},
   "source": [
    "**Вопрос 4.**\n",
    "```sql\n",
    "select\n",
    "    f.flight_id,\n",
    "    f.actual_departure - f.scheduled_departure\n",
    "from\n",
    "    dst_project.flights\n",
    "where\n",
    "    status = 'Arrived'\n",
    "group by\n",
    "    f.flight_id\n",
    "order by \n",
    "    2 desc\n",
    "limit\n",
    "    1\n",
    "```"
   ]
  },
  {
   "cell_type": "markdown",
   "metadata": {},
   "source": [
    "## Задание 4.4"
   ]
  },
  {
   "cell_type": "markdown",
   "metadata": {},
   "source": [
    "**Вопрос 1.**\n",
    "```sql\n",
    "select\n",
    "    min(f.scheduled_departure)\n",
    "from\n",
    "    dst_project.flights f\n",
    "```"
   ]
  },
  {
   "cell_type": "markdown",
   "metadata": {},
   "source": [
    "**Вопрос 2.**\n",
    "```sql\n",
    "select\n",
    "    f.scheduled_arrival - f.scheduled_departure\n",
    "from\n",
    "    dst_project.flights f\n",
    "where\n",
    "    status = 'Arrived'\n",
    "order by \n",
    "    1 desc\n",
    "```"
   ]
  },
  {
   "cell_type": "markdown",
   "metadata": {},
   "source": [
    "**Вопрос 3.**\n",
    "```sql\n",
    "select\n",
    "    f.arrival_airport,\n",
    "    f.departure_airport,\n",
    "    f.scheduled_arrival - f.scheduled_departure duration\n",
    "from\n",
    "    dst_project.flights f\n",
    "where\n",
    "    status = 'Scheduled'\n",
    "order by \n",
    "    3 desc\n",
    "```"
   ]
  },
  {
   "cell_type": "markdown",
   "metadata": {},
   "source": [
    "**Вопрос 4.**\n",
    "```sql\n",
    "select\n",
    "    avg(f.actual_arrival - f.actual_departure) duration\n",
    "from\n",
    "    dst_project.flights f\n",
    "where\n",
    "    status = 'Arrived'\n",
    "```"
   ]
  },
  {
   "cell_type": "markdown",
   "metadata": {},
   "source": [
    "## Задание 4.5"
   ]
  },
  {
   "cell_type": "markdown",
   "metadata": {},
   "source": [
    "**Вопрос 1.**\n",
    "```sql\n",
    "select\n",
    "    distinct s.fare_conditions,\n",
    "    count(s.seat_no)\n",
    "from\n",
    "    dst_project.seats s\n",
    "where \n",
    "    s.aircraft_code = 'SU9'\n",
    "group by\n",
    "    fare_conditions\n",
    "order by\n",
    "    2 desc\n",
    "```"
   ]
  },
  {
   "cell_type": "markdown",
   "metadata": {},
   "source": [
    "**Вопрос 2.**\n",
    "```sql\n",
    "select\n",
    "    min(b.total_amount)\n",
    "from\n",
    "    dst_project.bookings b \n",
    "```"
   ]
  },
  {
   "cell_type": "markdown",
   "metadata": {},
   "source": [
    "**Вопрос 3.**\n",
    "```sql\n",
    "select\n",
    "    b.seat_no\n",
    "from\n",
    "    dst_project.boarding_passes b\n",
    "        left join dst_project.tickets t\n",
    "        on b.ticket_no = t.ticket_no\n",
    "where\n",
    "    t.passenger_id = '4313 788533'\n",
    "```"
   ]
  },
  {
   "cell_type": "markdown",
   "metadata": {},
   "source": [
    "# Предварительный анализ"
   ]
  },
  {
   "cell_type": "markdown",
   "metadata": {},
   "source": [
    "## Задание 5.1"
   ]
  },
  {
   "cell_type": "markdown",
   "metadata": {},
   "source": [
    "**Вопрос 1.**\n",
    "```sql\n",
    "/* Достаем код аэропорта Анапы */\n",
    "select\n",
    "    a.airport_code\n",
    "from\n",
    "    dst_project.airports a\n",
    "where\n",
    "    a.city = 'Anapa'\n",
    "\n",
    "/* Нас интересует AAQ */\n",
    "select\n",
    "    count(f.flight_id)\n",
    "from\n",
    "    dst_project.flights f\n",
    "where\n",
    "    f.arrival_airport = 'AAQ'\n",
    "    and extract (year from f.actual_departure) = 2017\n",
    "group by \n",
    "    f.arrival_airport\n",
    "```"
   ]
  },
  {
   "cell_type": "markdown",
   "metadata": {},
   "source": [
    "**Вопрос 2.**\n",
    "```sql\n",
    "select\n",
    "    count(f.flight_id)\n",
    "from\n",
    "    dst_project.flights f\n",
    "where\n",
    "    f.departure_airport = 'AAQ'\n",
    "    and (date_trunc('month', scheduled_departure) in ('2017-01-01','2017-02-01', '2017-12-01'))\n",
    "```"
   ]
  },
  {
   "cell_type": "markdown",
   "metadata": {},
   "source": [
    "**Вопрос 3.**\n",
    "```sql\n",
    "select\n",
    "    count(f.flight_id)\n",
    "from\n",
    "    dst_project.flights f\n",
    "where\n",
    "    f.departure_airport = 'AAQ'\n",
    "    and f.status = 'Cancelled'\n",
    "```"
   ]
  },
  {
   "cell_type": "markdown",
   "metadata": {},
   "source": [
    "**Вопрос 4.**\n",
    "```sql\n",
    "select\n",
    "    count(f.flight_id)\n",
    "from\n",
    "    dst_project.flights f\n",
    "where\n",
    "    f.departure_airport = 'AAQ'\n",
    "    and f.arrival_airport != 'SVO' -- это единственный аэропорт в Москве, в который прилетают рейсы из Анапы\n",
    "```"
   ]
  },
  {
   "cell_type": "markdown",
   "metadata": {},
   "source": [
    "**Вопрос 5.**\n",
    "```sql\n",
    "select \n",
    "    a.aircraft_code, \n",
    "    a.model, \n",
    "    count(distinct s.seat_no)\n",
    "from \n",
    "    dst_project.seats s\n",
    "        join dst_project.aircrafts a \n",
    "        on s.aircraft_code = a.aircraft_code\n",
    "        join dst_project.flights f\n",
    "        on s.aircraft_code = f.aircraft_code\n",
    "where \n",
    "    f.departure_airport = 'AAQ' \n",
    "group by \n",
    "    1, 2 \n",
    "order by \n",
    "    3 desc \n",
    "limit \n",
    "    1 \n",
    "```"
   ]
  },
  {
   "cell_type": "markdown",
   "metadata": {},
   "source": [
    "# Выгрузка датасета"
   ]
  },
  {
   "cell_type": "markdown",
   "metadata": {},
   "source": [
    "```sql\n",
    "-- Данные о полетах и самолетах\n",
    "with f as (                 \n",
    "          select f.flight_id,\n",
    "          f.departure_airport,\n",
    "          f.arrival_airport,\n",
    "          (date_part('hour', f.actual_arrival - f.actual_departure) * 60 + date_part('minute', f.actual_arrival - f.actual_departure)) flight_duration,\n",
    "          f.aircraft_code\n",
    "   from dst_project.flights as f\n",
    "   where f.departure_airport = 'AAQ'\n",
    "     and (date_trunc('month', f.scheduled_departure) in ('2017-01-01',\n",
    "                                                         '2017-02-01',\n",
    "                                                         '2016-12-01'))\n",
    "     and f.status in ('Arrived')\n",
    "),\n",
    "-- Данные о билетах и прибыли\n",
    "     t as (\n",
    "     select t.flight_id,\n",
    "          count(t.ticket_no) tickets_amount,\n",
    "          sum(t.amount) revenue\n",
    "     from dst_project.ticket_flights as t\n",
    "     group by 1\n",
    "     ),\n",
    "-- Данные о классе обслуживания\n",
    "    tc as (\n",
    "     select tf.flight_id,\n",
    "         count(case when tf.fare_conditions = 'Economy' then tf.fare_conditions end) economy_class,\n",
    "         count(case when tf.fare_conditions = 'Comfort' then tf.fare_conditions end) comfort_class,\n",
    "         count(case when tf.fare_conditions = 'Business' then tf.fare_conditions end) business_class\n",
    "     from dst_project.ticket_flights as tf\n",
    "     group by 1\n",
    "     )\n",
    "select f.flight_id,\n",
    "       f.departure_airport,\n",
    "       f.arrival_airport,\n",
    "       a.model,\n",
    "       t.tickets_amount,\n",
    "       t.revenue,\n",
    "       tc.economy_class,\n",
    "       tc.comfort_class,\n",
    "       tc.business_class\n",
    "from dst_project.flights fl\n",
    "    left join f on fl.flight_id = f.flight_id\n",
    "    left join t on fl.flight_id = t.flight_id\n",
    "    left join tc on fl.flight_id = tc.flight_id\n",
    "    left join dst_project.aircrafts a on fl.aircraft_code = a.aircraft_code\n",
    "where fl.departure_airport = 'AAQ'\n",
    "    and (date_trunc('month', scheduled_departure) in ('2017-01-01', '2017-02-01', '2017-12-01'))\n",
    "    and status not in ('Cancelled')\n",
    "order by 1\n",
    "```"
   ]
  }
 ],
 "metadata": {
  "kernelspec": {
   "display_name": "Python 3",
   "language": "python",
   "name": "python3"
  },
  "language_info": {
   "codemirror_mode": {
    "name": "ipython",
    "version": 3
   },
   "file_extension": ".py",
   "mimetype": "text/x-python",
   "name": "python",
   "nbconvert_exporter": "python",
   "pygments_lexer": "ipython3",
   "version": "3.8.3"
  }
 },
 "nbformat": 4,
 "nbformat_minor": 4
}
